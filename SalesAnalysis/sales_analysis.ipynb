{
 "cells": [
  {
   "cell_type": "code",
   "id": "initial_id",
   "metadata": {
    "collapsed": true,
    "ExecuteTime": {
     "end_time": "2024-04-18T04:45:08.469427Z",
     "start_time": "2024-04-18T04:45:08.464086Z"
    }
   },
   "source": [
    "import pandas as pd\n",
    "import numpy as np\n",
    "import matplotlib.pyplot as plt\n",
    "import seaborn as sns\n",
    "import os\n",
    "\n",
    "from pyparsing import Each"
   ],
   "outputs": [],
   "execution_count": 1
  },
  {
   "metadata": {
    "ExecuteTime": {
     "end_time": "2024-04-18T04:15:52.934926Z",
     "start_time": "2024-04-18T04:15:52.557656Z"
    }
   },
   "cell_type": "code",
   "source": [
    "sales_df = pd.DataFrame()\n",
    "\n",
    "for filename in os.listdir('./Sales_Data'):\n",
    "    df = pd.read_csv('./Sales_Data/'+filename)\n",
    "    sales_df = pd.concat([sales_df,df])"
   ],
   "id": "535c7f9beaa92c82",
   "outputs": [],
   "execution_count": 2
  },
  {
   "metadata": {
    "ExecuteTime": {
     "end_time": "2024-04-18T04:15:54.101750Z",
     "start_time": "2024-04-18T04:15:53.661047Z"
    }
   },
   "cell_type": "code",
   "source": "sales_df.to_csv('./Output/all_data.csv',index=False)",
   "id": "d8dd48837a08ee19",
   "outputs": [],
   "execution_count": 3
  },
  {
   "metadata": {
    "ExecuteTime": {
     "end_time": "2024-04-18T04:45:11.197452Z",
     "start_time": "2024-04-18T04:45:10.901337Z"
    }
   },
   "cell_type": "code",
   "source": [
    "sales_data = pd.read_csv('./Output/all_data.csv')\n",
    "sales_data.head()"
   ],
   "id": "b82b315e02672443",
   "outputs": [
    {
     "data": {
      "text/plain": [
       "  Order ID               Product Quantity Ordered Price Each      Order Date  \\\n",
       "0   295665    Macbook Pro Laptop                1       1700  12/30/19 00:01   \n",
       "1   295666    LG Washing Machine                1      600.0  12/29/19 07:03   \n",
       "2   295667  USB-C Charging Cable                1      11.95  12/12/19 18:21   \n",
       "3   295668      27in FHD Monitor                1     149.99  12/22/19 15:13   \n",
       "4   295669  USB-C Charging Cable                1      11.95  12/18/19 12:38   \n",
       "\n",
       "                         Purchase Address  \n",
       "0  136 Church St, New York City, NY 10001  \n",
       "1     562 2nd St, New York City, NY 10001  \n",
       "2    277 Main St, New York City, NY 10001  \n",
       "3     410 6th St, San Francisco, CA 94016  \n",
       "4           43 Hill St, Atlanta, GA 30301  "
      ],
      "text/html": [
       "<div>\n",
       "<style scoped>\n",
       "    .dataframe tbody tr th:only-of-type {\n",
       "        vertical-align: middle;\n",
       "    }\n",
       "\n",
       "    .dataframe tbody tr th {\n",
       "        vertical-align: top;\n",
       "    }\n",
       "\n",
       "    .dataframe thead th {\n",
       "        text-align: right;\n",
       "    }\n",
       "</style>\n",
       "<table border=\"1\" class=\"dataframe\">\n",
       "  <thead>\n",
       "    <tr style=\"text-align: right;\">\n",
       "      <th></th>\n",
       "      <th>Order ID</th>\n",
       "      <th>Product</th>\n",
       "      <th>Quantity Ordered</th>\n",
       "      <th>Price Each</th>\n",
       "      <th>Order Date</th>\n",
       "      <th>Purchase Address</th>\n",
       "    </tr>\n",
       "  </thead>\n",
       "  <tbody>\n",
       "    <tr>\n",
       "      <th>0</th>\n",
       "      <td>295665</td>\n",
       "      <td>Macbook Pro Laptop</td>\n",
       "      <td>1</td>\n",
       "      <td>1700</td>\n",
       "      <td>12/30/19 00:01</td>\n",
       "      <td>136 Church St, New York City, NY 10001</td>\n",
       "    </tr>\n",
       "    <tr>\n",
       "      <th>1</th>\n",
       "      <td>295666</td>\n",
       "      <td>LG Washing Machine</td>\n",
       "      <td>1</td>\n",
       "      <td>600.0</td>\n",
       "      <td>12/29/19 07:03</td>\n",
       "      <td>562 2nd St, New York City, NY 10001</td>\n",
       "    </tr>\n",
       "    <tr>\n",
       "      <th>2</th>\n",
       "      <td>295667</td>\n",
       "      <td>USB-C Charging Cable</td>\n",
       "      <td>1</td>\n",
       "      <td>11.95</td>\n",
       "      <td>12/12/19 18:21</td>\n",
       "      <td>277 Main St, New York City, NY 10001</td>\n",
       "    </tr>\n",
       "    <tr>\n",
       "      <th>3</th>\n",
       "      <td>295668</td>\n",
       "      <td>27in FHD Monitor</td>\n",
       "      <td>1</td>\n",
       "      <td>149.99</td>\n",
       "      <td>12/22/19 15:13</td>\n",
       "      <td>410 6th St, San Francisco, CA 94016</td>\n",
       "    </tr>\n",
       "    <tr>\n",
       "      <th>4</th>\n",
       "      <td>295669</td>\n",
       "      <td>USB-C Charging Cable</td>\n",
       "      <td>1</td>\n",
       "      <td>11.95</td>\n",
       "      <td>12/18/19 12:38</td>\n",
       "      <td>43 Hill St, Atlanta, GA 30301</td>\n",
       "    </tr>\n",
       "  </tbody>\n",
       "</table>\n",
       "</div>"
      ]
     },
     "execution_count": 2,
     "metadata": {},
     "output_type": "execute_result"
    }
   ],
   "execution_count": 2
  },
  {
   "metadata": {},
   "cell_type": "markdown",
   "source": "### DATA CLEANING",
   "id": "345f13deac0b489e"
  },
  {
   "metadata": {
    "ExecuteTime": {
     "end_time": "2024-04-18T04:45:13.174049Z",
     "start_time": "2024-04-18T04:45:13.139655Z"
    }
   },
   "cell_type": "code",
   "source": [
    "sales_data['Month'] = sales_data['Order Date'].str[0:2]\n",
    "type(sales_data.iloc[1].Month)"
   ],
   "id": "f8d10732bd3e7a37",
   "outputs": [
    {
     "data": {
      "text/plain": [
       "str"
      ]
     },
     "execution_count": 3,
     "metadata": {},
     "output_type": "execute_result"
    }
   ],
   "execution_count": 3
  },
  {
   "metadata": {},
   "cell_type": "markdown",
   "source": [
    "Str no good, month integer good.\n",
    "butt nan values cant be converter to int so handeling nans first "
   ],
   "id": "f0309f30fa951fc4"
  },
  {
   "metadata": {
    "ExecuteTime": {
     "end_time": "2024-04-18T04:45:13.550287Z",
     "start_time": "2024-04-18T04:45:13.500959Z"
    }
   },
   "cell_type": "code",
   "source": [
    "print(sales_data['Month'].isna().sum())\n",
    "for column in sales_data.columns:\n",
    "    print(column,sales_data[column].isna().sum())"
   ],
   "id": "bce674b1400154ad",
   "outputs": [
    {
     "name": "stdout",
     "output_type": "stream",
     "text": [
      "545\n",
      "Order ID 545\n",
      "Product 545\n",
      "Quantity Ordered 545\n",
      "Price Each 545\n",
      "Order Date 545\n",
      "Purchase Address 545\n",
      "Month 545\n"
     ]
    }
   ],
   "execution_count": 4
  },
  {
   "metadata": {
    "ExecuteTime": {
     "end_time": "2024-04-18T04:45:14.529265Z",
     "start_time": "2024-04-18T04:45:14.484228Z"
    }
   },
   "cell_type": "code",
   "source": [
    "nan_df = sales_data[sales_data.isna().any(axis=1)]\n",
    "nan_df.head()"
   ],
   "id": "2cbf80b4d80e4e35",
   "outputs": [
    {
     "data": {
      "text/plain": [
       "     Order ID Product Quantity Ordered Price Each Order Date Purchase Address  \\\n",
       "264       NaN     NaN              NaN        NaN        NaN              NaN   \n",
       "648       NaN     NaN              NaN        NaN        NaN              NaN   \n",
       "680       NaN     NaN              NaN        NaN        NaN              NaN   \n",
       "1385      NaN     NaN              NaN        NaN        NaN              NaN   \n",
       "1495      NaN     NaN              NaN        NaN        NaN              NaN   \n",
       "\n",
       "     Month  \n",
       "264    NaN  \n",
       "648    NaN  \n",
       "680    NaN  \n",
       "1385   NaN  \n",
       "1495   NaN  "
      ],
      "text/html": [
       "<div>\n",
       "<style scoped>\n",
       "    .dataframe tbody tr th:only-of-type {\n",
       "        vertical-align: middle;\n",
       "    }\n",
       "\n",
       "    .dataframe tbody tr th {\n",
       "        vertical-align: top;\n",
       "    }\n",
       "\n",
       "    .dataframe thead th {\n",
       "        text-align: right;\n",
       "    }\n",
       "</style>\n",
       "<table border=\"1\" class=\"dataframe\">\n",
       "  <thead>\n",
       "    <tr style=\"text-align: right;\">\n",
       "      <th></th>\n",
       "      <th>Order ID</th>\n",
       "      <th>Product</th>\n",
       "      <th>Quantity Ordered</th>\n",
       "      <th>Price Each</th>\n",
       "      <th>Order Date</th>\n",
       "      <th>Purchase Address</th>\n",
       "      <th>Month</th>\n",
       "    </tr>\n",
       "  </thead>\n",
       "  <tbody>\n",
       "    <tr>\n",
       "      <th>264</th>\n",
       "      <td>NaN</td>\n",
       "      <td>NaN</td>\n",
       "      <td>NaN</td>\n",
       "      <td>NaN</td>\n",
       "      <td>NaN</td>\n",
       "      <td>NaN</td>\n",
       "      <td>NaN</td>\n",
       "    </tr>\n",
       "    <tr>\n",
       "      <th>648</th>\n",
       "      <td>NaN</td>\n",
       "      <td>NaN</td>\n",
       "      <td>NaN</td>\n",
       "      <td>NaN</td>\n",
       "      <td>NaN</td>\n",
       "      <td>NaN</td>\n",
       "      <td>NaN</td>\n",
       "    </tr>\n",
       "    <tr>\n",
       "      <th>680</th>\n",
       "      <td>NaN</td>\n",
       "      <td>NaN</td>\n",
       "      <td>NaN</td>\n",
       "      <td>NaN</td>\n",
       "      <td>NaN</td>\n",
       "      <td>NaN</td>\n",
       "      <td>NaN</td>\n",
       "    </tr>\n",
       "    <tr>\n",
       "      <th>1385</th>\n",
       "      <td>NaN</td>\n",
       "      <td>NaN</td>\n",
       "      <td>NaN</td>\n",
       "      <td>NaN</td>\n",
       "      <td>NaN</td>\n",
       "      <td>NaN</td>\n",
       "      <td>NaN</td>\n",
       "    </tr>\n",
       "    <tr>\n",
       "      <th>1495</th>\n",
       "      <td>NaN</td>\n",
       "      <td>NaN</td>\n",
       "      <td>NaN</td>\n",
       "      <td>NaN</td>\n",
       "      <td>NaN</td>\n",
       "      <td>NaN</td>\n",
       "      <td>NaN</td>\n",
       "    </tr>\n",
       "  </tbody>\n",
       "</table>\n",
       "</div>"
      ]
     },
     "execution_count": 5,
     "metadata": {},
     "output_type": "execute_result"
    }
   ],
   "execution_count": 5
  },
  {
   "metadata": {},
   "cell_type": "markdown",
   "source": "545 rows have no data in them so we can drop them ",
   "id": "39d3209be2141449"
  },
  {
   "metadata": {
    "ExecuteTime": {
     "end_time": "2024-04-18T04:45:15.689929Z",
     "start_time": "2024-04-18T04:45:15.630187Z"
    }
   },
   "cell_type": "code",
   "source": [
    "s1=sales_data.shape[0]\n",
    "sales_data = sales_data.dropna()\n",
    "s2=sales_data.shape[0]\n",
    "print(s1-s2)"
   ],
   "id": "b0e4586ae5f6b6d5",
   "outputs": [
    {
     "name": "stdout",
     "output_type": "stream",
     "text": [
      "545\n"
     ]
    }
   ],
   "execution_count": 6
  },
  {
   "metadata": {},
   "cell_type": "markdown",
   "source": "dropping rows with or in order data and month",
   "id": "41de47f197844e"
  },
  {
   "metadata": {
    "ExecuteTime": {
     "end_time": "2024-04-18T04:45:16.650122Z",
     "start_time": "2024-04-18T04:45:16.574712Z"
    }
   },
   "cell_type": "code",
   "source": [
    "or_index=list(sales_data.loc[sales_data['Month'].str.contains('Or')].index)\n",
    "sales_data.drop(or_index,axis=0,inplace=True)\n",
    "sales_data.loc[sales_data['Month']=='Or']"
   ],
   "id": "8fa5f8b3833dc1af",
   "outputs": [
    {
     "data": {
      "text/plain": [
       "Empty DataFrame\n",
       "Columns: [Order ID, Product, Quantity Ordered, Price Each, Order Date, Purchase Address, Month]\n",
       "Index: []"
      ],
      "text/html": [
       "<div>\n",
       "<style scoped>\n",
       "    .dataframe tbody tr th:only-of-type {\n",
       "        vertical-align: middle;\n",
       "    }\n",
       "\n",
       "    .dataframe tbody tr th {\n",
       "        vertical-align: top;\n",
       "    }\n",
       "\n",
       "    .dataframe thead th {\n",
       "        text-align: right;\n",
       "    }\n",
       "</style>\n",
       "<table border=\"1\" class=\"dataframe\">\n",
       "  <thead>\n",
       "    <tr style=\"text-align: right;\">\n",
       "      <th></th>\n",
       "      <th>Order ID</th>\n",
       "      <th>Product</th>\n",
       "      <th>Quantity Ordered</th>\n",
       "      <th>Price Each</th>\n",
       "      <th>Order Date</th>\n",
       "      <th>Purchase Address</th>\n",
       "      <th>Month</th>\n",
       "    </tr>\n",
       "  </thead>\n",
       "  <tbody>\n",
       "  </tbody>\n",
       "</table>\n",
       "</div>"
      ]
     },
     "execution_count": 7,
     "metadata": {},
     "output_type": "execute_result"
    }
   ],
   "execution_count": 7
  },
  {
   "metadata": {},
   "cell_type": "markdown",
   "source": "now convert month to int",
   "id": "896d6a67935ea703"
  },
  {
   "metadata": {
    "ExecuteTime": {
     "end_time": "2024-04-18T04:45:17.553738Z",
     "start_time": "2024-04-18T04:45:17.533065Z"
    }
   },
   "cell_type": "code",
   "source": [
    "sales_data['Month'] = sales_data['Month'].astype('int32')\n",
    "print(type(sales_data.iloc[1].Month))"
   ],
   "id": "42efce986fc7556d",
   "outputs": [
    {
     "name": "stdout",
     "output_type": "stream",
     "text": [
      "<class 'numpy.int32'>\n"
     ]
    }
   ],
   "execution_count": 8
  },
  {
   "metadata": {
    "ExecuteTime": {
     "end_time": "2024-04-18T04:45:18.158135Z",
     "start_time": "2024-04-18T04:45:17.730993Z"
    }
   },
   "cell_type": "code",
   "source": "sales_data.groupby(sales_data['Month'])['Price Each'].sum().sort_values(ascending=False)",
   "id": "2c6829ddec743cd1",
   "outputs": [
    {
     "data": {
      "text/plain": [
       "Month\n",
       "2     7003.84389.9914.953.8414.953.8415011.9511.9599...\n",
       "10    379.99389.992.99149.9911.992.9911.9914.95150.0...\n",
       "3     2.992.9911.9999.99999.9911.9999.99999.9911.953...\n",
       "12    1700600.011.95149.9911.953.8411.9511.9599.992....\n",
       "9     150379.9914.952.99999.99149.9911.9514.9599.991...\n",
       "7     1503003.843.842.9999.99600600.011.9514.953.841...\n",
       "5     150149.9970015060011.9515099.9915099.993.84150...\n",
       "6     149.992.9914.9514.9540011.956003.84109.9999.99...\n",
       "1     14.9570014.9560011.9915011.9511.9599.9914.9510...\n",
       "8     11.9999.99700.03.843.8411.99379.99109.9911.991...\n",
       "11    11.9911.95150.0149.9999.9911.9514.9599.9914.95...\n",
       "4     11.9599.9960011.9911.9911.9599.9911.95170011.9...\n",
       "Name: Price Each, dtype: object"
      ]
     },
     "execution_count": 9,
     "metadata": {},
     "output_type": "execute_result"
    }
   ],
   "execution_count": 9
  },
  {
   "metadata": {},
   "cell_type": "markdown",
   "source": "hmmm Price each seems to be in string format ",
   "id": "7ab73a6355ec062a"
  },
  {
   "metadata": {
    "ExecuteTime": {
     "end_time": "2024-04-18T04:45:20.010859Z",
     "start_time": "2024-04-18T04:45:20.005223Z"
    }
   },
   "cell_type": "code",
   "source": [
    "type(sales_data.iloc[1]['Price Each']) \n",
    "#conforming "
   ],
   "id": "fedc346cb632005b",
   "outputs": [
    {
     "data": {
      "text/plain": [
       "str"
      ]
     },
     "execution_count": 10,
     "metadata": {},
     "output_type": "execute_result"
    }
   ],
   "execution_count": 10
  },
  {
   "metadata": {
    "ExecuteTime": {
     "end_time": "2024-04-18T04:45:20.904997Z",
     "start_time": "2024-04-18T04:45:20.872604Z"
    }
   },
   "cell_type": "code",
   "source": [
    "#converting price each to float \n",
    "sales_data['Price Each'] = sales_data['Price Each'].astype('float')\n",
    "print(type(sales_data.iloc[1]['Price Each']))\n",
    "#converting quantiy to float\n",
    "sales_data['Quantity Ordered'] = sales_data['Quantity Ordered'].astype('float')\n",
    "print(type(sales_data.iloc[1]['Price Each']))\n"
   ],
   "id": "68e5fe23476e7c88",
   "outputs": [
    {
     "name": "stdout",
     "output_type": "stream",
     "text": [
      "<class 'numpy.float64'>\n",
      "<class 'numpy.float64'>\n"
     ]
    }
   ],
   "execution_count": 11
  },
  {
   "metadata": {
    "ExecuteTime": {
     "end_time": "2024-04-18T04:45:22.174278Z",
     "start_time": "2024-04-18T04:45:22.104397Z"
    }
   },
   "cell_type": "code",
   "source": [
    "sales_data['City'] = sales_data['Purchase Address'].apply(lambda x:x.split(',')[1])\n",
    "sales_data['City'].nunique()"
   ],
   "id": "6672eac5d3685bea",
   "outputs": [
    {
     "data": {
      "text/plain": [
       "9"
      ]
     },
     "execution_count": 12,
     "metadata": {},
     "output_type": "execute_result"
    }
   ],
   "execution_count": 12
  },
  {
   "metadata": {
    "ExecuteTime": {
     "end_time": "2024-04-18T04:45:23.091562Z",
     "start_time": "2024-04-18T04:45:23.019450Z"
    }
   },
   "cell_type": "code",
   "source": "sales_data['State'] = sales_data['Purchase Address'].apply(lambda x:x.split(',')[2].split(' ')[1])",
   "id": "13659e62b660c288",
   "outputs": [],
   "execution_count": 13
  },
  {
   "metadata": {
    "ExecuteTime": {
     "end_time": "2024-04-18T04:45:23.314062Z",
     "start_time": "2024-04-18T04:45:23.300968Z"
    }
   },
   "cell_type": "code",
   "source": "sales_data['State'].unique()",
   "id": "620d68256608c825",
   "outputs": [
    {
     "data": {
      "text/plain": [
       "array(['NY', 'CA', 'GA', 'OR', 'TX', 'MA', 'ME', 'WA'], dtype=object)"
      ]
     },
     "execution_count": 14,
     "metadata": {},
     "output_type": "execute_result"
    }
   ],
   "execution_count": 14
  },
  {
   "metadata": {},
   "cell_type": "markdown",
   "source": "",
   "id": "60560e1cf2c85340"
  },
  {
   "metadata": {
    "ExecuteTime": {
     "end_time": "2024-04-18T04:45:24.595821Z",
     "start_time": "2024-04-18T04:45:24.586469Z"
    }
   },
   "cell_type": "code",
   "source": "sales_data.head()",
   "id": "710da9e97a250a56",
   "outputs": [
    {
     "data": {
      "text/plain": [
       "  Order ID               Product  Quantity Ordered  Price Each  \\\n",
       "0   295665    Macbook Pro Laptop               1.0     1700.00   \n",
       "1   295666    LG Washing Machine               1.0      600.00   \n",
       "2   295667  USB-C Charging Cable               1.0       11.95   \n",
       "3   295668      27in FHD Monitor               1.0      149.99   \n",
       "4   295669  USB-C Charging Cable               1.0       11.95   \n",
       "\n",
       "       Order Date                        Purchase Address  Month  \\\n",
       "0  12/30/19 00:01  136 Church St, New York City, NY 10001     12   \n",
       "1  12/29/19 07:03     562 2nd St, New York City, NY 10001     12   \n",
       "2  12/12/19 18:21    277 Main St, New York City, NY 10001     12   \n",
       "3  12/22/19 15:13     410 6th St, San Francisco, CA 94016     12   \n",
       "4  12/18/19 12:38           43 Hill St, Atlanta, GA 30301     12   \n",
       "\n",
       "             City State  \n",
       "0   New York City    NY  \n",
       "1   New York City    NY  \n",
       "2   New York City    NY  \n",
       "3   San Francisco    CA  \n",
       "4         Atlanta    GA  "
      ],
      "text/html": [
       "<div>\n",
       "<style scoped>\n",
       "    .dataframe tbody tr th:only-of-type {\n",
       "        vertical-align: middle;\n",
       "    }\n",
       "\n",
       "    .dataframe tbody tr th {\n",
       "        vertical-align: top;\n",
       "    }\n",
       "\n",
       "    .dataframe thead th {\n",
       "        text-align: right;\n",
       "    }\n",
       "</style>\n",
       "<table border=\"1\" class=\"dataframe\">\n",
       "  <thead>\n",
       "    <tr style=\"text-align: right;\">\n",
       "      <th></th>\n",
       "      <th>Order ID</th>\n",
       "      <th>Product</th>\n",
       "      <th>Quantity Ordered</th>\n",
       "      <th>Price Each</th>\n",
       "      <th>Order Date</th>\n",
       "      <th>Purchase Address</th>\n",
       "      <th>Month</th>\n",
       "      <th>City</th>\n",
       "      <th>State</th>\n",
       "    </tr>\n",
       "  </thead>\n",
       "  <tbody>\n",
       "    <tr>\n",
       "      <th>0</th>\n",
       "      <td>295665</td>\n",
       "      <td>Macbook Pro Laptop</td>\n",
       "      <td>1.0</td>\n",
       "      <td>1700.00</td>\n",
       "      <td>12/30/19 00:01</td>\n",
       "      <td>136 Church St, New York City, NY 10001</td>\n",
       "      <td>12</td>\n",
       "      <td>New York City</td>\n",
       "      <td>NY</td>\n",
       "    </tr>\n",
       "    <tr>\n",
       "      <th>1</th>\n",
       "      <td>295666</td>\n",
       "      <td>LG Washing Machine</td>\n",
       "      <td>1.0</td>\n",
       "      <td>600.00</td>\n",
       "      <td>12/29/19 07:03</td>\n",
       "      <td>562 2nd St, New York City, NY 10001</td>\n",
       "      <td>12</td>\n",
       "      <td>New York City</td>\n",
       "      <td>NY</td>\n",
       "    </tr>\n",
       "    <tr>\n",
       "      <th>2</th>\n",
       "      <td>295667</td>\n",
       "      <td>USB-C Charging Cable</td>\n",
       "      <td>1.0</td>\n",
       "      <td>11.95</td>\n",
       "      <td>12/12/19 18:21</td>\n",
       "      <td>277 Main St, New York City, NY 10001</td>\n",
       "      <td>12</td>\n",
       "      <td>New York City</td>\n",
       "      <td>NY</td>\n",
       "    </tr>\n",
       "    <tr>\n",
       "      <th>3</th>\n",
       "      <td>295668</td>\n",
       "      <td>27in FHD Monitor</td>\n",
       "      <td>1.0</td>\n",
       "      <td>149.99</td>\n",
       "      <td>12/22/19 15:13</td>\n",
       "      <td>410 6th St, San Francisco, CA 94016</td>\n",
       "      <td>12</td>\n",
       "      <td>San Francisco</td>\n",
       "      <td>CA</td>\n",
       "    </tr>\n",
       "    <tr>\n",
       "      <th>4</th>\n",
       "      <td>295669</td>\n",
       "      <td>USB-C Charging Cable</td>\n",
       "      <td>1.0</td>\n",
       "      <td>11.95</td>\n",
       "      <td>12/18/19 12:38</td>\n",
       "      <td>43 Hill St, Atlanta, GA 30301</td>\n",
       "      <td>12</td>\n",
       "      <td>Atlanta</td>\n",
       "      <td>GA</td>\n",
       "    </tr>\n",
       "  </tbody>\n",
       "</table>\n",
       "</div>"
      ]
     },
     "execution_count": 15,
     "metadata": {},
     "output_type": "execute_result"
    }
   ],
   "execution_count": 15
  },
  {
   "metadata": {},
   "cell_type": "markdown",
   "source": "### Best month for sales ",
   "id": "3fb0ec259636b025"
  },
  {
   "metadata": {
    "ExecuteTime": {
     "end_time": "2024-04-18T04:45:26.284070Z",
     "start_time": "2024-04-18T04:45:26.279178Z"
    }
   },
   "cell_type": "code",
   "source": [
    "sales_data['Total Sales'] = sales_data['Price Each']*sales_data['Quantity Ordered']\n",
    "print(sales_data.iloc[0:5]['Total Sales'])"
   ],
   "id": "a564557f928ee586",
   "outputs": [
    {
     "name": "stdout",
     "output_type": "stream",
     "text": [
      "0    1700.00\n",
      "1     600.00\n",
      "2      11.95\n",
      "3     149.99\n",
      "4      11.95\n",
      "Name: Total Sales, dtype: float64\n"
     ]
    }
   ],
   "execution_count": 16
  },
  {
   "metadata": {
    "ExecuteTime": {
     "end_time": "2024-04-18T04:45:26.528638Z",
     "start_time": "2024-04-18T04:45:26.519929Z"
    }
   },
   "cell_type": "code",
   "source": "sales_data.groupby(sales_data['Month'])['Total Sales'].sum().sort_values(ascending=False)",
   "id": "1537769f5e91fb20",
   "outputs": [
    {
     "data": {
      "text/plain": [
       "Month\n",
       "12    4613443.34\n",
       "10    3736726.88\n",
       "4     3390670.24\n",
       "11    3199603.20\n",
       "5     3152606.75\n",
       "3     2807100.38\n",
       "7     2647775.76\n",
       "6     2577802.26\n",
       "8     2244467.88\n",
       "2     2202022.42\n",
       "9     2097560.13\n",
       "1     1822256.73\n",
       "Name: Total Sales, dtype: float64"
      ]
     },
     "execution_count": 17,
     "metadata": {},
     "output_type": "execute_result"
    }
   ],
   "execution_count": 17
  },
  {
   "metadata": {
    "ExecuteTime": {
     "end_time": "2024-04-18T04:45:28.097547Z",
     "start_time": "2024-04-18T04:45:27.749157Z"
    }
   },
   "cell_type": "code",
   "source": [
    "monthly_sum = sales_data.groupby(sales_data['Month'])['Total Sales'].sum()\n",
    "monthly_quantity = sales_data.groupby(sales_data['Month'])['Quantity Ordered'].sum()\n",
    "ax =monthly_quantity.plot(kind='bar', legend=False)\n",
    "monthly_sum.index = monthly_sum.index - 1\n",
    "monthly_sum.plot(kind='line', marker='o', secondary_y=True, ax=ax, \n",
    "                      color='green', legend=False)\n",
    "\n",
    "plt.xlabel('Month')\n",
    "\n",
    "plt.ylabel('Sum of Prices')\n",
    "plt.title('Monthly Sum of Prices')\n",
    "plt.show()\n"
   ],
   "id": "c497e1426e5d731b",
   "outputs": [
    {
     "data": {
      "text/plain": [
       "<Figure size 640x480 with 2 Axes>"
      ],
      "image/png": "[encoded data removed]"
     },
     "metadata": {},
     "output_type": "display_data"
    }
   ],
   "execution_count": 18
  },
  {
   "metadata": {},
   "cell_type": "markdown",
   "source": "### City with best sales ",
   "id": "4bb1c786f289a8ba"
  },
  {
   "metadata": {},
   "cell_type": "markdown",
   "source": "",
   "id": "29206655bfb60842"
  },
  {
   "metadata": {
    "ExecuteTime": {
     "end_time": "2024-04-18T04:45:31.603620Z",
     "start_time": "2024-04-18T04:45:31.432197Z"
    }
   },
   "cell_type": "code",
   "source": [
    "city_sales = sales_data.groupby(sales_data['City'])['Total Sales'].sum()\n",
    "city_sales.plot(kind='barh', legend=False)\n",
    "plt.xlabel('City')\n",
    "plt.ylabel('Sum of Prices')\n",
    "plt.title('City Sum of Prices')\n",
    "plt.show()"
   ],
   "id": "9a76b31487e97c5",
   "outputs": [
    {
     "data": {
      "text/plain": [
       "<Figure size 640x480 with 1 Axes>"
      ],
      "image/png": "[encoded data removed]"
     },
     "metadata": {},
     "output_type": "display_data"
    }
   ],
   "execution_count": 19
  },
  {
   "metadata": {},
   "cell_type": "markdown",
   "source": "##### maybe check for duplicates in city name but at different states ",
   "id": "9c9db5c5308a3796"
  },
  {
   "metadata": {
    "ExecuteTime": {
     "end_time": "2024-04-18T04:45:33.251980Z",
     "start_time": "2024-04-18T04:45:33.081891Z"
    }
   },
   "cell_type": "code",
   "source": [
    "city_sales = sales_data.groupby([sales_data['City'],sales_data['State']])['Total Sales'].sum()\n",
    "city_sales.plot(kind='barh', legend=False)\n",
    "plt.xlabel('City')\n",
    "plt.ylabel('Sum of Prices')\n",
    "plt.title('City Sum of Prices')\n",
    "plt.show()"
   ],
   "id": "a8d7ec7e467002bb",
   "outputs": [
    {
     "data": {
      "text/plain": [
       "<Figure size 640x480 with 1 Axes>"
      ],
      "image/png": "[encoded data removed]"
     },
     "metadata": {},
     "output_type": "display_data"
    }
   ],
   "execution_count": 20
  },
  {
   "metadata": {},
   "cell_type": "markdown",
   "source": " ### Best month for each city ",
   "id": "2cc4c3211d9c8849"
  },
  {
   "metadata": {
    "ExecuteTime": {
     "end_time": "2024-04-18T04:54:10.077471Z",
     "start_time": "2024-04-18T04:54:10.032837Z"
    }
   },
   "cell_type": "code",
   "source": "city_month = sales_data.groupby([sales_data[\"City\"],sales_data[\"Month\"]])['Total Sales'].sum().reset_index()",
   "id": "c8e323b2f6b3bf79",
   "outputs": [],
   "execution_count": 48
  },
  {
   "metadata": {
    "ExecuteTime": {
     "end_time": "2024-04-18T04:54:10.579023Z",
     "start_time": "2024-04-18T04:54:10.574235Z"
    }
   },
   "cell_type": "code",
   "source": "city_max = city_month.groupby('City')['Total Sales'].idxmax()",
   "id": "bcbf01617caa1b84",
   "outputs": [],
   "execution_count": 49
  },
  {
   "metadata": {
    "ExecuteTime": {
     "end_time": "2024-04-18T04:55:17.231081Z",
     "start_time": "2024-04-18T04:55:17.225641Z"
    }
   },
   "cell_type": "code",
   "source": "best_month_sales = city_month.loc[city_max]",
   "id": "1e459e3036712208",
   "outputs": [],
   "execution_count": 54
  },
  {
   "metadata": {
    "ExecuteTime": {
     "end_time": "2024-04-18T04:55:22.575139Z",
     "start_time": "2024-04-18T04:55:22.571539Z"
    }
   },
   "cell_type": "code",
   "source": "print(best_month_sales)",
   "id": "4e89deedfe8bf1b",
   "outputs": [
    {
     "name": "stdout",
     "output_type": "stream",
     "text": [
      "               City  Month  Total Sales\n",
      "11          Atlanta     12    360899.26\n",
      "23           Austin     12    233777.09\n",
      "35           Boston     12    509599.16\n",
      "47           Dallas     12    380718.85\n",
      "59      Los Angeles     12    684044.84\n",
      "71    New York City     12    646770.83\n",
      "83         Portland     12    303714.11\n",
      "95    San Francisco     12   1106601.27\n",
      "107         Seattle     12    387317.93\n"
     ]
    }
   ],
   "execution_count": 55
  },
  {
   "metadata": {
    "ExecuteTime": {
     "end_time": "2024-04-18T04:59:15.490771Z",
     "start_time": "2024-04-18T04:59:15.293257Z"
    }
   },
   "cell_type": "code",
   "source": [
    "city_monthly_sales = sales_data.groupby(['City', 'Month'])['Total Sales'].sum().reset_index()\n",
    "\n",
    "max_sales_index = city_monthly_sales.groupby('City')['Total Sales'].idxmax()\n",
    "\n",
    "best_month_sales = city_monthly_sales.loc[max_sales_index]\n",
    "\n",
    "plt.figure(figsize=(10, 6))\n",
    "\n",
    "plt.barh(best_month_sales['City'], best_month_sales['Total Sales'], color='skyblue')\n",
    "for i, (city, sales, month) in enumerate(zip(best_month_sales['City'], best_month_sales['Total Sales'], best_month_sales['Month'])):\n",
    "    plt.text(sales, i, f'{month}: ${sales:,.0f}', ha='left', va='center', fontsize=10)\n",
    "plt.xlabel('Total Sales')\n",
    "plt.ylabel('City')\n",
    "plt.title('Best Month for Each City Based on Total Sales')\n",
    "\n",
    "plt.show()"
   ],
   "id": "dd491b936033519f",
   "outputs": [
    {
     "data": {
      "text/plain": [
       "<Figure size 1000x600 with 1 Axes>"
      ],
      "image/png": "[encoded data removed]"
     },
     "metadata": {},
     "output_type": "display_data"
    }
   ],
   "execution_count": 59
  },
  {
   "metadata": {},
   "cell_type": "code",
   "outputs": [],
   "execution_count": null,
   "source": "",
   "id": "ccee29f64bcc32ad"
  }
 ],
 "metadata": {
  "kernelspec": {
   "display_name": "Python 3",
   "language": "python",
   "name": "python3"
  },
  "language_info": {
   "codemirror_mode": {
    "name": "ipython",
    "version": 2
   },
   "file_extension": ".py",
   "mimetype": "text/x-python",
   "name": "python",
   "nbconvert_exporter": "python",
   "pygments_lexer": "ipython2",
   "version": "2.7.6"
  }
 },
 "nbformat": 4,
 "nbformat_minor": 5
}
